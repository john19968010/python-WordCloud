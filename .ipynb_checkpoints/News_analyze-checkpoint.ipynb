{
 "cells": [
  {
   "cell_type": "code",
   "execution_count": 1,
   "metadata": {},
   "outputs": [],
   "source": [
    "# newapi的範例\n",
    "# https://newsapi.org/docs/client-libraries/python\n",
    "# newapi的函式庫\n",
    "# https://newsapi.org/docs/endpoints/everything"
   ]
  },
  {
   "cell_type": "code",
   "execution_count": null,
   "metadata": {},
   "outputs": [],
   "source": [
    "from newsapi import NewsApiClient\n",
    "newsapi = NewsApiClient(api_key='db6f518f7a5349d98c710da1bcae06b9')"
   ]
  },
  {
   "cell_type": "code",
   "execution_count": 5,
   "metadata": {},
   "outputs": [
    {
     "name": "stdout",
     "output_type": "stream",
     "text": [
      "我|今天|要|到|台北|松山|機場|出差\n"
     ]
    }
   ],
   "source": [
    "import jieba\n",
    "\n",
    "sentence = '我今天要到台北松山機場出差'\n",
    "breakword = jieba.cut(sentence)\n",
    "print('|'.join(breakword))#也可以用list的方式呈現"
   ]
  },
  {
   "cell_type": "code",
   "execution_count": 4,
   "metadata": {},
   "outputs": [
    {
     "name": "stdout",
     "output_type": "stream",
     "text": [
      "精準模式：我|今天|要|到|台北|松山|機場|出差\n",
      "全文模式：我|今天|要到|台北|松山|機|場|出差\n",
      "搜索引擎模式：我|今天|要|到|台北|松山|機場|出差\n"
     ]
    }
   ],
   "source": [
    "#精準模式 jieba.cut(,cut_all=False) 最精準的方式斷句,是合作文件分析,也是預設值\n",
    "#全文模式 jieba.cut(,cut_all=True) 將可以成詞的字都搜瞄出來,速度最快\n",
    "#搜索引擎模式 jieba.cut_for_search() 在精準模式上載隊長詞做切分,適合搜尋引擎斷詞\n",
    "\n",
    "import jieba\n",
    "\n",
    "sentence1 = '我今天要到台北松山機場出差'\n",
    "breakword = jieba.cut(sentence,cut_all=False)\n",
    "print('精準模式：' + '|'.join(breakword))\n",
    "\n",
    "breakword = jieba.cut(sentence,cut_all=True)\n",
    "print('全文模式：' + '|'.join(breakword))\n",
    "\n",
    "breakword = jieba.cut_for_search(sentence)\n",
    "print('搜索引擎模式：' + '|'.join(breakword))"
   ]
  },
  {
   "cell_type": "code",
   "execution_count": 10,
   "metadata": {},
   "outputs": [
    {
     "name": "stderr",
     "output_type": "stream",
     "text": [
      "Building prefix dict from /Users/john19968010/Desktop/jieba-zh_TW/jieba/dict.txt ...\n",
      "Loading model from cache /var/folders/yn/7s1mn7_d7wn0cssgr5v87py40000gn/T/jieba.u7d07102f7121e30353399331d12b1291.cache\n",
      "Loading model cost 0.678 seconds.\n",
      "Prefix dict has been built successfully.\n"
     ]
    },
    {
     "name": "stdout",
     "output_type": "stream",
     "text": [
      "我|今天|要|到|台北|松山|機場|出差\n"
     ]
    }
   ],
   "source": [
    "#設置詞庫檔案路徑\n",
    "jieba.set_dictionary('jieba-zh_TW/jieba/dict.txt')\n",
    "sentence1 = '我今天要到台北松山機場出差'\n",
    "breakword = jieba.cut(sentence1)\n",
    "print('|'.join(breakword))"
   ]
  },
  {
   "cell_type": "code",
   "execution_count": 32,
   "metadata": {},
   "outputs": [
    {
     "name": "stdout",
     "output_type": "stream",
     "text": [
      "前幾天|,|蔡英文|今天|要|到|松山機場|出差\n"
     ]
    }
   ],
   "source": [
    "import jieba\n",
    "\n",
    "jieba.load_userdict('jieba-zh_TW/jieba/my_dict.txt') #設定自定義詞庫\n",
    "# jieba.set_dictionary('jieba-zh_TW/jieba/dict.txt') #設定繁體中文詞庫\n",
    "\n",
    "a = '前幾天,蔡英文今天要到松山機場出差'\n",
    "b = jieba.cut(a)\n",
    "print('|'.join(b))"
   ]
  },
  {
   "cell_type": "code",
   "execution_count": 34,
   "metadata": {},
   "outputs": [
    {
     "name": "stdout",
     "output_type": "stream",
     "text": [
      "前幾天|蔡英文|今天|要|到|松山機場|出差\n"
     ]
    }
   ],
   "source": [
    "#刪除標點符號\n",
    "import jieba\n",
    "\n",
    "\n",
    "jieba.load_userdict('jieba-zh_TW/jieba/my_dict.txt') #設定自定義詞庫\n",
    "# jieba.set_dictionary('jieba-zh_TW/jieba/dict.txt') #設定繁體中文詞庫\n",
    "with open('jieba-zh_TW/jieba/stop_word.txt', 'r') as f:\n",
    "    stops = f.read().split('\\n')\n",
    "\n",
    "\n",
    "a = '前幾天,蔡英文今天要到松山機場出差'\n",
    "b = jieba.cut(a)\n",
    "words = []\n",
    "for word in b:\n",
    "    if word not in stops:\n",
    "        words.append(word)\n",
    "\n",
    "print('|'.join(words))"
   ]
  },
  {
   "cell_type": "code",
   "execution_count": 37,
   "metadata": {},
   "outputs": [
    {
     "name": "stdout",
     "output_type": "stream",
     "text": [
      "今天|是|個|好|天氣|屬於|晴朗|的|天氣|適合|出|遊玩|的|天氣\n"
     ]
    }
   ],
   "source": [
    "#文字雲\n",
    "text = \"今天是個好天氣,屬於晴朗的天氣,適合出遊玩的天氣\"\n",
    "jieba.load_userdict('jieba-zh_TW/jieba/my_dict.txt') #設定自定義詞庫\n",
    "# jieba.set_dictionary('jieba-zh_TW/jieba/dict.txt') #設定繁體中文詞庫\n",
    "with open('jieba-zh_TW/jieba/stop_word.txt', 'r') as f:\n",
    "    stops = f.read().split('\\n')\n",
    "\n",
    "\n",
    "\n",
    "b = jieba.cut(text)\n",
    "words = []\n",
    "for word in b:\n",
    "    if word not in stops:\n",
    "        words.append(word)\n",
    "\n",
    "print('|'.join(words))"
   ]
  },
  {
   "cell_type": "code",
   "execution_count": 40,
   "metadata": {},
   "outputs": [],
   "source": [
    "#算出元素值出現次數\n",
    "from collections import Counter\n",
    "diction = Counter(words)"
   ]
  },
  {
   "cell_type": "code",
   "execution_count": 42,
   "metadata": {},
   "outputs": [
    {
     "data": {
      "text/plain": [
       "Counter({'今天': 1,\n",
       "         '是': 1,\n",
       "         '個': 1,\n",
       "         '好': 1,\n",
       "         '天氣': 3,\n",
       "         '屬於': 1,\n",
       "         '晴朗': 1,\n",
       "         '的': 2,\n",
       "         '適合': 1,\n",
       "         '出': 1,\n",
       "         '遊玩': 1})"
      ]
     },
     "execution_count": 42,
     "metadata": {},
     "output_type": "execute_result"
    }
   ],
   "source": [
    "Counter(words)"
   ]
  },
  {
   "cell_type": "code",
   "execution_count": null,
   "metadata": {},
   "outputs": [],
   "source": [
    "from wordcloud import WordCloud\n",
    "import nltk\n",
    "\n",
    "text = open('jieba-zh_TW/jieba/1.txt', 'r').read()\n"
   ]
  },
  {
   "cell_type": "code",
   "execution_count": 49,
   "metadata": {},
   "outputs": [
    {
     "name": "stderr",
     "output_type": "stream",
     "text": [
      "Building prefix dict from /Users/john19968010/Desktop/jieba-zh_TW/jieba/dict.txt ...\n",
      "Loading model from cache /var/folders/yn/7s1mn7_d7wn0cssgr5v87py40000gn/T/jieba.u7d07102f7121e30353399331d12b1291.cache\n",
      "Loading model cost 0.674 seconds.\n",
      "Prefix dict has been built successfully.\n"
     ]
    },
    {
     "ename": "OSError",
     "evalue": "cannot open resource",
     "output_type": "error",
     "traceback": [
      "\u001b[0;31m---------------------------------------------------------------------------\u001b[0m",
      "\u001b[0;31mOSError\u001b[0m                                   Traceback (most recent call last)",
      "\u001b[0;32m<ipython-input-49-581cc5a1cf88>\u001b[0m in \u001b[0;36m<module>\u001b[0;34m\u001b[0m\n\u001b[1;32m     23\u001b[0m \u001b[0;31m#設定背景顏色,形狀即字形\u001b[0m\u001b[0;34m\u001b[0m\u001b[0;34m\u001b[0m\u001b[0;34m\u001b[0m\u001b[0m\n\u001b[1;32m     24\u001b[0m \u001b[0mwordcloud\u001b[0m \u001b[0;34m=\u001b[0m \u001b[0mWordCloud\u001b[0m\u001b[0;34m(\u001b[0m\u001b[0mbackground_color\u001b[0m\u001b[0;34m=\u001b[0m\u001b[0;34m\"white\"\u001b[0m\u001b[0;34m,\u001b[0m\u001b[0mfont_path\u001b[0m\u001b[0;34m=\u001b[0m\u001b[0mfont\u001b[0m\u001b[0;34m)\u001b[0m\u001b[0;34m\u001b[0m\u001b[0;34m\u001b[0m\u001b[0m\n\u001b[0;32m---> 25\u001b[0;31m \u001b[0mwordcloud\u001b[0m\u001b[0;34m.\u001b[0m\u001b[0mgenerate_from_frequencies\u001b[0m\u001b[0;34m(\u001b[0m\u001b[0mfrequencies\u001b[0m\u001b[0;34m=\u001b[0m\u001b[0mdiction\u001b[0m\u001b[0;34m)\u001b[0m\u001b[0;31m#產生文字雲\u001b[0m\u001b[0;34m\u001b[0m\u001b[0;34m\u001b[0m\u001b[0m\n\u001b[0m\u001b[1;32m     26\u001b[0m \u001b[0;34m\u001b[0m\u001b[0m\n\u001b[1;32m     27\u001b[0m \u001b[0;31m#產生圖片\u001b[0m\u001b[0;34m\u001b[0m\u001b[0;34m\u001b[0m\u001b[0;34m\u001b[0m\u001b[0m\n",
      "\u001b[0;32m/opt/anaconda3/lib/python3.7/site-packages/wordcloud/wordcloud.py\u001b[0m in \u001b[0;36mgenerate_from_frequencies\u001b[0;34m(self, frequencies, max_font_size)\u001b[0m\n\u001b[1;32m    445\u001b[0m             \u001b[0;32melse\u001b[0m\u001b[0;34m:\u001b[0m\u001b[0;34m\u001b[0m\u001b[0;34m\u001b[0m\u001b[0m\n\u001b[1;32m    446\u001b[0m                 self.generate_from_frequencies(dict(frequencies[:2]),\n\u001b[0;32m--> 447\u001b[0;31m                                                max_font_size=self.height)\n\u001b[0m\u001b[1;32m    448\u001b[0m                 \u001b[0;31m# find font sizes\u001b[0m\u001b[0;34m\u001b[0m\u001b[0;34m\u001b[0m\u001b[0;34m\u001b[0m\u001b[0m\n\u001b[1;32m    449\u001b[0m                 \u001b[0msizes\u001b[0m \u001b[0;34m=\u001b[0m \u001b[0;34m[\u001b[0m\u001b[0mx\u001b[0m\u001b[0;34m[\u001b[0m\u001b[0;36m1\u001b[0m\u001b[0;34m]\u001b[0m \u001b[0;32mfor\u001b[0m \u001b[0mx\u001b[0m \u001b[0;32min\u001b[0m \u001b[0mself\u001b[0m\u001b[0;34m.\u001b[0m\u001b[0mlayout_\u001b[0m\u001b[0;34m]\u001b[0m\u001b[0;34m\u001b[0m\u001b[0;34m\u001b[0m\u001b[0m\n",
      "\u001b[0;32m/opt/anaconda3/lib/python3.7/site-packages/wordcloud/wordcloud.py\u001b[0m in \u001b[0;36mgenerate_from_frequencies\u001b[0;34m(self, frequencies, max_font_size)\u001b[0m\n\u001b[1;32m    494\u001b[0m             \u001b[0;32mwhile\u001b[0m \u001b[0;32mTrue\u001b[0m\u001b[0;34m:\u001b[0m\u001b[0;34m\u001b[0m\u001b[0;34m\u001b[0m\u001b[0m\n\u001b[1;32m    495\u001b[0m                 \u001b[0;31m# try to find a position\u001b[0m\u001b[0;34m\u001b[0m\u001b[0;34m\u001b[0m\u001b[0;34m\u001b[0m\u001b[0m\n\u001b[0;32m--> 496\u001b[0;31m                 \u001b[0mfont\u001b[0m \u001b[0;34m=\u001b[0m \u001b[0mImageFont\u001b[0m\u001b[0;34m.\u001b[0m\u001b[0mtruetype\u001b[0m\u001b[0;34m(\u001b[0m\u001b[0mself\u001b[0m\u001b[0;34m.\u001b[0m\u001b[0mfont_path\u001b[0m\u001b[0;34m,\u001b[0m \u001b[0mfont_size\u001b[0m\u001b[0;34m)\u001b[0m\u001b[0;34m\u001b[0m\u001b[0;34m\u001b[0m\u001b[0m\n\u001b[0m\u001b[1;32m    497\u001b[0m                 \u001b[0;31m# transpose font optionally\u001b[0m\u001b[0;34m\u001b[0m\u001b[0;34m\u001b[0m\u001b[0;34m\u001b[0m\u001b[0m\n\u001b[1;32m    498\u001b[0m                 transposed_font = ImageFont.TransposedFont(\n",
      "\u001b[0;32m/opt/anaconda3/lib/python3.7/site-packages/PIL/ImageFont.py\u001b[0m in \u001b[0;36mtruetype\u001b[0;34m(font, size, index, encoding, layout_engine)\u001b[0m\n\u001b[1;32m    653\u001b[0m \u001b[0;34m\u001b[0m\u001b[0m\n\u001b[1;32m    654\u001b[0m     \u001b[0;32mtry\u001b[0m\u001b[0;34m:\u001b[0m\u001b[0;34m\u001b[0m\u001b[0;34m\u001b[0m\u001b[0m\n\u001b[0;32m--> 655\u001b[0;31m         \u001b[0;32mreturn\u001b[0m \u001b[0mfreetype\u001b[0m\u001b[0;34m(\u001b[0m\u001b[0mfont\u001b[0m\u001b[0;34m)\u001b[0m\u001b[0;34m\u001b[0m\u001b[0;34m\u001b[0m\u001b[0m\n\u001b[0m\u001b[1;32m    656\u001b[0m     \u001b[0;32mexcept\u001b[0m \u001b[0mOSError\u001b[0m\u001b[0;34m:\u001b[0m\u001b[0;34m\u001b[0m\u001b[0;34m\u001b[0m\u001b[0m\n\u001b[1;32m    657\u001b[0m         \u001b[0;32mif\u001b[0m \u001b[0;32mnot\u001b[0m \u001b[0misPath\u001b[0m\u001b[0;34m(\u001b[0m\u001b[0mfont\u001b[0m\u001b[0;34m)\u001b[0m\u001b[0;34m:\u001b[0m\u001b[0;34m\u001b[0m\u001b[0;34m\u001b[0m\u001b[0m\n",
      "\u001b[0;32m/opt/anaconda3/lib/python3.7/site-packages/PIL/ImageFont.py\u001b[0m in \u001b[0;36mfreetype\u001b[0;34m(font)\u001b[0m\n\u001b[1;32m    650\u001b[0m \u001b[0;34m\u001b[0m\u001b[0m\n\u001b[1;32m    651\u001b[0m     \u001b[0;32mdef\u001b[0m \u001b[0mfreetype\u001b[0m\u001b[0;34m(\u001b[0m\u001b[0mfont\u001b[0m\u001b[0;34m)\u001b[0m\u001b[0;34m:\u001b[0m\u001b[0;34m\u001b[0m\u001b[0;34m\u001b[0m\u001b[0m\n\u001b[0;32m--> 652\u001b[0;31m         \u001b[0;32mreturn\u001b[0m \u001b[0mFreeTypeFont\u001b[0m\u001b[0;34m(\u001b[0m\u001b[0mfont\u001b[0m\u001b[0;34m,\u001b[0m \u001b[0msize\u001b[0m\u001b[0;34m,\u001b[0m \u001b[0mindex\u001b[0m\u001b[0;34m,\u001b[0m \u001b[0mencoding\u001b[0m\u001b[0;34m,\u001b[0m \u001b[0mlayout_engine\u001b[0m\u001b[0;34m)\u001b[0m\u001b[0;34m\u001b[0m\u001b[0;34m\u001b[0m\u001b[0m\n\u001b[0m\u001b[1;32m    653\u001b[0m \u001b[0;34m\u001b[0m\u001b[0m\n\u001b[1;32m    654\u001b[0m     \u001b[0;32mtry\u001b[0m\u001b[0;34m:\u001b[0m\u001b[0;34m\u001b[0m\u001b[0;34m\u001b[0m\u001b[0m\n",
      "\u001b[0;32m/opt/anaconda3/lib/python3.7/site-packages/PIL/ImageFont.py\u001b[0m in \u001b[0;36m__init__\u001b[0;34m(self, font, size, index, encoding, layout_engine)\u001b[0m\n\u001b[1;32m    192\u001b[0m                     \u001b[0;32mreturn\u001b[0m\u001b[0;34m\u001b[0m\u001b[0;34m\u001b[0m\u001b[0m\n\u001b[1;32m    193\u001b[0m             self.font = core.getfont(\n\u001b[0;32m--> 194\u001b[0;31m                 \u001b[0mfont\u001b[0m\u001b[0;34m,\u001b[0m \u001b[0msize\u001b[0m\u001b[0;34m,\u001b[0m \u001b[0mindex\u001b[0m\u001b[0;34m,\u001b[0m \u001b[0mencoding\u001b[0m\u001b[0;34m,\u001b[0m \u001b[0mlayout_engine\u001b[0m\u001b[0;34m=\u001b[0m\u001b[0mlayout_engine\u001b[0m\u001b[0;34m\u001b[0m\u001b[0;34m\u001b[0m\u001b[0m\n\u001b[0m\u001b[1;32m    195\u001b[0m             )\n\u001b[1;32m    196\u001b[0m         \u001b[0;32melse\u001b[0m\u001b[0;34m:\u001b[0m\u001b[0;34m\u001b[0m\u001b[0;34m\u001b[0m\u001b[0m\n",
      "\u001b[0;31mOSError\u001b[0m: cannot open resource"
     ]
    }
   ],
   "source": [
    "from wordcloud import WordCloud\n",
    "from PIL import Image\n",
    "from wordcloud import WordCloud\n",
    "import jieba\n",
    "import numpy as np\n",
    "from collections import Counter\n",
    "\n",
    "text = open('jieba-zh_TW/jieba/1.txt', 'r').read()\n",
    "jieba.set_dictionary('jieba-zh_TW/jieba/dict.txt') \n",
    "\n",
    "with open('jieba-zh_TW/jieba/stop_word.txt', 'r') as f:\n",
    "    stops = f.read().split('\\n')\n",
    "\n",
    "terms = []\n",
    "for t in jieba.cut(text, cut_all=False):\n",
    "    if t not in stops:\n",
    "        terms.append(t)\n",
    "diction = Counter(terms)\n",
    "\n",
    "font = 'msch.ttf'\n",
    "#設定文字雲形狀\n",
    "# mask = np.array(Image.open(\"heart.png\")) mask=mask\n",
    "#設定背景顏色,形狀即字形\n",
    "wordcloud = WordCloud(background_color=\"white\",font_path=font)\n",
    "wordcloud.generate_from_frequencies(frequencies=diction)#產生文字雲\n",
    "\n",
    "#產生圖片\n",
    "plt.figure(figsize=(6,6))\n",
    "plt.imshow(wordcloud)\n",
    "plt.axis(\"off\")\n",
    "plt.show()\n",
    "\n",
    "wordcloud.to_file(\"new_Wordcloud.png\")"
   ]
  }
 ],
 "metadata": {
  "kernelspec": {
   "display_name": "Python 3",
   "language": "python",
   "name": "python3"
  },
  "language_info": {
   "codemirror_mode": {
    "name": "ipython",
    "version": 3
   },
   "file_extension": ".py",
   "mimetype": "text/x-python",
   "name": "python",
   "nbconvert_exporter": "python",
   "pygments_lexer": "ipython3",
   "version": "3.7.6"
  }
 },
 "nbformat": 4,
 "nbformat_minor": 4
}
